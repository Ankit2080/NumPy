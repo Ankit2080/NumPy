{
 "cells": [
  {
   "cell_type": "markdown",
   "id": "86700e59",
   "metadata": {},
   "source": [
    "# 1. Create a null vector of size 10 but the fifth value which is 1."
   ]
  },
  {
   "cell_type": "code",
   "execution_count": 1,
   "id": "d4b7ff0f",
   "metadata": {},
   "outputs": [
    {
     "data": {
      "text/plain": [
       "array([0., 0., 0., 0., 0., 1., 0., 0., 0., 0.])"
      ]
     },
     "execution_count": 1,
     "metadata": {},
     "output_type": "execute_result"
    }
   ],
   "source": [
    "import numpy as np\n",
    "arr=np.zeros(10)\n",
    "arr[5]=1\n",
    "arr"
   ]
  },
  {
   "cell_type": "markdown",
   "id": "9bbca568",
   "metadata": {},
   "source": [
    "# 2. Create a vector with values ranging from 10 to 49."
   ]
  },
  {
   "cell_type": "code",
   "execution_count": 7,
   "id": "0d447e40",
   "metadata": {},
   "outputs": [
    {
     "data": {
      "text/plain": [
       "array([10, 11, 12, 13, 14, 15, 16, 17, 18, 19, 20, 21, 22, 23, 24, 25, 26,\n",
       "       27, 28, 29, 30, 31, 32, 33, 34, 35, 36, 37, 38, 39, 40, 41, 42, 43,\n",
       "       44, 45, 46, 47, 48, 49])"
      ]
     },
     "execution_count": 7,
     "metadata": {},
     "output_type": "execute_result"
    }
   ],
   "source": [
    "arr=np.arange(10,50)\n",
    "arr"
   ]
  },
  {
   "cell_type": "markdown",
   "id": "a6b7da32",
   "metadata": {},
   "source": [
    "# 3. Create a 3x3 matrix with values ranging from 0 to 8"
   ]
  },
  {
   "cell_type": "code",
   "execution_count": 13,
   "id": "fab46f3c",
   "metadata": {},
   "outputs": [
    {
     "data": {
      "text/plain": [
       "array([[0, 1, 2],\n",
       "       [3, 4, 5],\n",
       "       [6, 7, 8]])"
      ]
     },
     "execution_count": 13,
     "metadata": {},
     "output_type": "execute_result"
    }
   ],
   "source": [
    "arr=np.arange(0,9)\n",
    "arr1=arr.reshape(3,3)\n",
    "arr1"
   ]
  },
  {
   "cell_type": "markdown",
   "id": "50c203a0",
   "metadata": {},
   "source": [
    "# 4. Find indices of non-zero elements from [1,2,0,0,4,0]"
   ]
  },
  {
   "cell_type": "code",
   "execution_count": 19,
   "id": "4b9e7bd1",
   "metadata": {},
   "outputs": [
    {
     "name": "stdout",
     "output_type": "stream",
     "text": [
      "Indice of non-zero elements are: (array([0, 1, 4], dtype=int64),)\n"
     ]
    }
   ],
   "source": [
    "arr= np.array([1,2,0,0,4,0])\n",
    "arr1= np.where(arr>0)\n",
    "print(\"Indice of non-zero elements are:\",arr1)"
   ]
  },
  {
   "cell_type": "code",
   "execution_count": 26,
   "id": "20699cce",
   "metadata": {},
   "outputs": [
    {
     "name": "stdout",
     "output_type": "stream",
     "text": [
      "Indice of non-zero elements are:\n",
      "0,1,4,"
     ]
    }
   ],
   "source": [
    "arr= np.array([1,2,0,0,4,0])\n",
    "print(\"Indice of non-zero elements are:\")\n",
    "for i in range (len(arr)):\n",
    "    if arr[i] !=0:\n",
    "        print(i,end=\",\")"
   ]
  },
  {
   "cell_type": "markdown",
   "id": "637d3e02",
   "metadata": {},
   "source": [
    "# 5. Create a 10x10 array with random values and find the minimum and maximum values."
   ]
  },
  {
   "cell_type": "code",
   "execution_count": 34,
   "id": "62b10091",
   "metadata": {},
   "outputs": [
    {
     "name": "stdout",
     "output_type": "stream",
     "text": [
      "Random Value: [[89 36  6 45 98 85  9 40 53 16]\n",
      " [99 95 88 87 92  6 94 13 43 23]\n",
      " [ 1  0 40 45 89 87 86 15  7 20]\n",
      " [23 69 30 65 50  1 96 78 22  8]\n",
      " [91 76 35 67 43 86 90 12 12 48]\n",
      " [50 63 38 14 45 32 49 25 92 18]\n",
      " [36 44 13  9  7 57 18 59 72 20]\n",
      " [84 20 64 23 61 33 14 37  0 84]\n",
      " [15 17 85 83 23 75 63 92 65 15]\n",
      " [47  6 58 29  9 56 37 59  6 14]]\n",
      "The maxium value is: 99\n",
      "The minium value is: 0\n"
     ]
    }
   ],
   "source": [
    "#Random Value\n",
    "arr=np.random.randint(0,100,(10,10))\n",
    "print(\"Random Value:\",arr)\n",
    "#Maximum Value\n",
    "arr1=np.max(arr)\n",
    "print(\"The maxium value is:\",arr1)\n",
    "#Minimum Value\n",
    "arr2=np.min(arr)\n",
    "print(\"The minium value is:\",arr2)"
   ]
  },
  {
   "cell_type": "markdown",
   "id": "d708e424",
   "metadata": {},
   "source": [
    "# 6. Create a random vector of size 30 and find the mean value."
   ]
  },
  {
   "cell_type": "code",
   "execution_count": 35,
   "id": "b306b62f",
   "metadata": {},
   "outputs": [
    {
     "data": {
      "text/plain": [
       "0.5289634077315084"
      ]
     },
     "execution_count": 35,
     "metadata": {},
     "output_type": "execute_result"
    }
   ],
   "source": [
    "arr=np.random.rand(30)\n",
    "arr1=arr.mean()\n",
    "arr1"
   ]
  },
  {
   "cell_type": "code",
   "execution_count": 39,
   "id": "de02353d",
   "metadata": {},
   "outputs": [
    {
     "data": {
      "text/plain": [
       "15.933333333333334"
      ]
     },
     "execution_count": 39,
     "metadata": {},
     "output_type": "execute_result"
    }
   ],
   "source": [
    "arr=np.random.randint(2,30,90)\n",
    "arr1=arr.mean()\n",
    "arr1"
   ]
  },
  {
   "cell_type": "code",
   "execution_count": null,
   "id": "41b89387",
   "metadata": {},
   "outputs": [],
   "source": []
  }
 ],
 "metadata": {
  "kernelspec": {
   "display_name": "Python 3 (ipykernel)",
   "language": "python",
   "name": "python3"
  },
  "language_info": {
   "codemirror_mode": {
    "name": "ipython",
    "version": 3
   },
   "file_extension": ".py",
   "mimetype": "text/x-python",
   "name": "python",
   "nbconvert_exporter": "python",
   "pygments_lexer": "ipython3",
   "version": "3.10.9"
  }
 },
 "nbformat": 4,
 "nbformat_minor": 5
}
